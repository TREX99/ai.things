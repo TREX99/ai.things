{
  "nbformat": 4,
  "nbformat_minor": 0,
  "metadata": {
    "kernelspec": {
      "display_name": "Python 3",
      "language": "python",
      "name": "python3"
    },
    "language_info": {
      "codemirror_mode": {
        "name": "ipython",
        "version": 3
      },
      "file_extension": ".py",
      "mimetype": "text/x-python",
      "name": "python",
      "nbconvert_exporter": "python",
      "pygments_lexer": "ipython3",
      "version": "3.7.3"
    },
    "colab": {
      "name": "AI빅데이터프로그래밍_중간고사.ipynb",
      "provenance": [],
      "collapsed_sections": [],
      "include_colab_link": true
    }
  },
  "cells": [
    {
      "cell_type": "markdown",
      "metadata": {
        "id": "view-in-github",
        "colab_type": "text"
      },
      "source": [
        "<a href=\"https://colab.research.google.com/github/TREX99/ai.things/blob/master/AI%EB%B9%85%EB%8D%B0%EC%9D%B4%ED%84%B0%ED%94%84%EB%A1%9C%EA%B7%B8%EB%9E%98%EB%B0%8D_%EC%A4%91%EA%B0%84%EA%B3%A0%EC%82%AC.ipynb\" target=\"_parent\"><img src=\"https://colab.research.google.com/assets/colab-badge.svg\" alt=\"Open In Colab\"/></a>"
      ]
    },
    {
      "cell_type": "markdown",
      "metadata": {
        "id": "4rssIo-91fbT",
        "colab_type": "text"
      },
      "source": [
        "학번 : U2020038\n",
        "\n",
        "이름 : 이성만"
      ]
    },
    {
      "cell_type": "markdown",
      "metadata": {
        "id": "2GZoUd2F1fbU",
        "colab_type": "text"
      },
      "source": [
        "### 1. 다음의 리스트를 활용하여 문항에 적절한 코드를 작성하세요."
      ]
    },
    {
      "cell_type": "code",
      "metadata": {
        "id": "tBBG0Uue1fbU",
        "colab_type": "code",
        "colab": {}
      },
      "source": [
        "fruit = ['apple', 'banana', 'cherry', 'grape', ' orange', 'strawberry', 'melon']"
      ],
      "execution_count": 0,
      "outputs": []
    },
    {
      "cell_type": "markdown",
      "metadata": {
        "id": "P7X6l0Qw1fbX",
        "colab_type": "text"
      },
      "source": [
        "**문항1]** fruit리스트에서 'cherry'를 출력하세요."
      ]
    },
    {
      "cell_type": "code",
      "metadata": {
        "id": "7ZNzcEUL1fbY",
        "colab_type": "code",
        "colab": {
          "base_uri": "https://localhost:8080/",
          "height": 35
        },
        "outputId": "04c922f2-27d9-4b79-d2f8-306df5c51658"
      },
      "source": [
        "fruit[2]"
      ],
      "execution_count": 2,
      "outputs": [
        {
          "output_type": "execute_result",
          "data": {
            "text/plain": [
              "'cherry'"
            ]
          },
          "metadata": {
            "tags": []
          },
          "execution_count": 2
        }
      ]
    },
    {
      "cell_type": "markdown",
      "metadata": {
        "id": "v-eJiwdi1fbb",
        "colab_type": "text"
      },
      "source": [
        "**문항2]** fruit리스트를 역순으로 출력하세요."
      ]
    },
    {
      "cell_type": "code",
      "metadata": {
        "id": "zzm6rMSY1fbb",
        "colab_type": "code",
        "colab": {
          "base_uri": "https://localhost:8080/",
          "height": 35
        },
        "outputId": "9e457b32-b101-464f-a64d-256353e4d9fd"
      },
      "source": [
        "fruit[::-1]"
      ],
      "execution_count": 3,
      "outputs": [
        {
          "output_type": "execute_result",
          "data": {
            "text/plain": [
              "['melon', 'strawberry', ' orange', 'grape', 'cherry', 'banana', 'apple']"
            ]
          },
          "metadata": {
            "tags": []
          },
          "execution_count": 3
        }
      ]
    },
    {
      "cell_type": "markdown",
      "metadata": {
        "id": "5SNq_E1J1fbd",
        "colab_type": "text"
      },
      "source": [
        "**문항3]** fruit리스트의 마지막 두개 값을 출력하세요."
      ]
    },
    {
      "cell_type": "code",
      "metadata": {
        "id": "kVXV3dY11fbe",
        "colab_type": "code",
        "colab": {
          "base_uri": "https://localhost:8080/",
          "height": 35
        },
        "outputId": "b34e1898-bd10-4acd-8ce2-6bb7f3e0421f"
      },
      "source": [
        "fruit[5:7]"
      ],
      "execution_count": 4,
      "outputs": [
        {
          "output_type": "execute_result",
          "data": {
            "text/plain": [
              "['strawberry', 'melon']"
            ]
          },
          "metadata": {
            "tags": []
          },
          "execution_count": 4
        }
      ]
    },
    {
      "cell_type": "markdown",
      "metadata": {
        "id": "5Yo5f-sG1fbg",
        "colab_type": "text"
      },
      "source": [
        "**문항4]** fruit리스트의 문자열을 '&'로 모두 붙여 다음과 같은 결과가 나오도록 출력하세요.\n",
        "\n",
        "'apple&banana&cherry&grape& orange&strawberry&melon'"
      ]
    },
    {
      "cell_type": "code",
      "metadata": {
        "id": "qkWNsyKp1fbg",
        "colab_type": "code",
        "colab": {
          "base_uri": "https://localhost:8080/",
          "height": 35
        },
        "outputId": "d9fb932a-ed4d-4086-ec88-06889b9ab4ac"
      },
      "source": [
        "\"&\".join(fruit)"
      ],
      "execution_count": 5,
      "outputs": [
        {
          "output_type": "execute_result",
          "data": {
            "text/plain": [
              "'apple&banana&cherry&grape& orange&strawberry&melon'"
            ]
          },
          "metadata": {
            "tags": []
          },
          "execution_count": 5
        }
      ]
    },
    {
      "cell_type": "markdown",
      "metadata": {
        "id": "n1wj7wVq1fbi",
        "colab_type": "text"
      },
      "source": [
        "**문항5]** fruit리스트를 인덱스(순서번호)와 함께 출력하세요."
      ]
    },
    {
      "cell_type": "code",
      "metadata": {
        "id": "S-PG1Thp1fbj",
        "colab_type": "code",
        "colab": {
          "base_uri": "https://localhost:8080/",
          "height": 143
        },
        "outputId": "977c5f37-d6d1-4d70-8fc8-196992e7be39"
      },
      "source": [
        "for i, v in enumerate(fruit):\n",
        "    print(i, v)"
      ],
      "execution_count": 6,
      "outputs": [
        {
          "output_type": "stream",
          "text": [
            "0 apple\n",
            "1 banana\n",
            "2 cherry\n",
            "3 grape\n",
            "4  orange\n",
            "5 strawberry\n",
            "6 melon\n"
          ],
          "name": "stdout"
        }
      ]
    },
    {
      "cell_type": "markdown",
      "metadata": {
        "id": "8K6e7UG11fbm",
        "colab_type": "text"
      },
      "source": [
        "### 다음의 코드의 출력값이 나오도록 예시 코드를 수정하세요."
      ]
    },
    {
      "cell_type": "markdown",
      "metadata": {
        "id": "AyJmraPi1fbm",
        "colab_type": "text"
      },
      "source": [
        "**문항6]** 다음과 같은 출력값이 나오도록 코드를 수정하세요.\n",
        "\n",
        "a1 b1\n",
        "\n",
        "a2 b2\n",
        "\n",
        "a3 b3"
      ]
    },
    {
      "cell_type": "code",
      "metadata": {
        "id": "Co9PtMgs1fbm",
        "colab_type": "code",
        "colab": {
          "base_uri": "https://localhost:8080/",
          "height": 71
        },
        "outputId": "d016f84a-1e11-40bd-d680-bc174c8e598d"
      },
      "source": [
        "alist = ['a1', 'a2', 'a3']\n",
        "blist = ['b1', 'b2', 'b3']\n",
        "for a, b in zip(alist, blist):\n",
        "    print(a,b)"
      ],
      "execution_count": 7,
      "outputs": [
        {
          "output_type": "stream",
          "text": [
            "a1 b1\n",
            "a2 b2\n",
            "a3 b3\n"
          ],
          "name": "stdout"
        }
      ]
    },
    {
      "cell_type": "markdown",
      "metadata": {
        "id": "38OA2dKI1fbp",
        "colab_type": "text"
      },
      "source": [
        "**문항7]** 다음의 출력값이 나오도록 나머지 코드를 작성하세요.\n",
        "\n",
        "DONGUNIVERSITY"
      ]
    },
    {
      "cell_type": "code",
      "metadata": {
        "id": "Y-naphK61fbq",
        "colab_type": "code",
        "colab": {
          "base_uri": "https://localhost:8080/",
          "height": 35
        },
        "outputId": "86f61575-e27a-4f9d-dc69-6cc2180715a0"
      },
      "source": [
        "school = 'KOOKMIN UNIVERSITY'\n",
        "student = ['HONG', 'GIL', 'DONG']\n",
        "\n",
        "student[2][:3] + student[1][0] + school.split()[1]"
      ],
      "execution_count": 8,
      "outputs": [
        {
          "output_type": "execute_result",
          "data": {
            "text/plain": [
              "'DONGUNIVERSITY'"
            ]
          },
          "metadata": {
            "tags": []
          },
          "execution_count": 8
        }
      ]
    },
    {
      "cell_type": "markdown",
      "metadata": {
        "id": "RF2DPKb31fbs",
        "colab_type": "text"
      },
      "source": [
        "**문항8]** 리스트 컴프리헨션으로 다음의 출력값이 나오는 코드를 작성하세요.\n",
        "\n",
        "[1, 4, 9, 16, 25]"
      ]
    },
    {
      "cell_type": "code",
      "metadata": {
        "id": "xBlF7AHI1fbt",
        "colab_type": "code",
        "colab": {
          "base_uri": "https://localhost:8080/",
          "height": 35
        },
        "outputId": "a10666b6-4cfc-4b72-c835-14de8829d8f2"
      },
      "source": [
        "p = [1,2,3,4,5]\n",
        "[v**2 for i, v in enumerate(p)]"
      ],
      "execution_count": 9,
      "outputs": [
        {
          "output_type": "execute_result",
          "data": {
            "text/plain": [
              "[1, 4, 9, 16, 25]"
            ]
          },
          "metadata": {
            "tags": []
          },
          "execution_count": 9
        }
      ]
    },
    {
      "cell_type": "markdown",
      "metadata": {
        "id": "pxMmdr2Q1fbw",
        "colab_type": "text"
      },
      "source": [
        "**문항9]** formating을 활용하여 다음과 같이 출력하세요.\n",
        "\n",
        "'2020년 5월 2일'"
      ]
    },
    {
      "cell_type": "code",
      "metadata": {
        "id": "wOnen4Rm1fbw",
        "colab_type": "code",
        "colab": {
          "base_uri": "https://localhost:8080/",
          "height": 35
        },
        "outputId": "2cc8008a-9cc0-4b50-8ea0-8abe6defd960"
      },
      "source": [
        "d_info = {'year': '2020', 'month':'5', 'day':'2'}\n",
        "print('{}년 {}월 {}일'.format(d_info['year'], d_info['month'], d_info['day']))"
      ],
      "execution_count": 10,
      "outputs": [
        {
          "output_type": "stream",
          "text": [
            "2020년 5월 2일\n"
          ],
          "name": "stdout"
        }
      ]
    },
    {
      "cell_type": "markdown",
      "metadata": {
        "id": "i4SaQRQS1fby",
        "colab_type": "text"
      },
      "source": [
        "**문항10]** 다음과 같이 2개의 행렬을 더하는 함수 my_addition을 작성하여 정상적으로 출력되도록 하세요.\n",
        "\n",
        "[[4, 9], [7, 4]]"
      ]
    },
    {
      "cell_type": "code",
      "metadata": {
        "id": "vk49l9fq1fbz",
        "colab_type": "code",
        "colab": {
          "base_uri": "https://localhost:8080/",
          "height": 53
        },
        "outputId": "d1724a50-0f0e-4dca-adad-476fa72fced1"
      },
      "source": [
        "import numpy as np\n",
        "def my_addtion(x, y):\n",
        "    xx = np.matrix(x)\n",
        "    yy = np.matrix(y)\n",
        "    return xx + yy\n",
        "\n",
        "matrix_x = [[2,5], [2,1]]\n",
        "matrix_y = [[2,4], [5,3]]\n",
        "result = my_addtion(matrix_x, matrix_y)\n",
        "print(result)"
      ],
      "execution_count": 11,
      "outputs": [
        {
          "output_type": "stream",
          "text": [
            "[[4 9]\n",
            " [7 4]]\n"
          ],
          "name": "stdout"
        }
      ]
    },
    {
      "cell_type": "markdown",
      "metadata": {
        "id": "NM9G1R661fb0",
        "colab_type": "text"
      },
      "source": [
        "**문항11]** 다음의 출력값이 나오도록 코드를 작성하세요.\n",
        "\n",
        "{'my': 5, 'cat': 6, 'has': 2, 'blue': 3, 'eyes,': 4, 'is': 7, 'cute': 8}"
      ]
    },
    {
      "cell_type": "code",
      "metadata": {
        "id": "JxdZ_Hi01fb1",
        "colab_type": "code",
        "colab": {
          "base_uri": "https://localhost:8080/",
          "height": 35
        },
        "outputId": "709579a6-5efc-42a9-dcc6-67155ceef4f0"
      },
      "source": [
        "c = 'my cat has blue eyes, my cat is cute'\n",
        "x = c.split()\n",
        "dict(zip(x, range(len(x))))"
      ],
      "execution_count": 12,
      "outputs": [
        {
          "output_type": "execute_result",
          "data": {
            "text/plain": [
              "{'blue': 3, 'cat': 6, 'cute': 8, 'eyes,': 4, 'has': 2, 'is': 7, 'my': 5}"
            ]
          },
          "metadata": {
            "tags": []
          },
          "execution_count": 12
        }
      ]
    },
    {
      "cell_type": "markdown",
      "metadata": {
        "id": "AHZaYZcJ1fb3",
        "colab_type": "text"
      },
      "source": [
        "**문항11]** 다음의 출력값이 나오도록 코드를 작성하세요.\n",
        "\n",
        "'This Is PYTHON'"
      ]
    },
    {
      "cell_type": "code",
      "metadata": {
        "id": "LSrZNSJI1fb3",
        "colab_type": "code",
        "colab": {
          "base_uri": "https://localhost:8080/",
          "height": 35
        },
        "outputId": "103d6a07-2f09-4b4f-807a-4bd8e28c392c"
      },
      "source": [
        "str_a = 'this is'\n",
        "str_b = 'PythoN'\n",
        "str_a.capitalize() + ' ' + str_b.upper()"
      ],
      "execution_count": 13,
      "outputs": [
        {
          "output_type": "execute_result",
          "data": {
            "text/plain": [
              "'This is PYTHON'"
            ]
          },
          "metadata": {
            "tags": []
          },
          "execution_count": 13
        }
      ]
    },
    {
      "cell_type": "markdown",
      "metadata": {
        "id": "nOVV3qUR1fb5",
        "colab_type": "text"
      },
      "source": [
        "### 다음의 문항을 수행할 수 있는 함수를 작성하고 예시 결과를 출력하세요."
      ]
    },
    {
      "cell_type": "markdown",
      "metadata": {
        "id": "6Z338UF01fb5",
        "colab_type": "text"
      },
      "source": [
        "**문항12]** 제곱미터를 입력값으로 하여 평형을 계산할 수 있는 my_house 함수를 작성하여 다음의 코드가 작동되도록 하세요.\n",
        "\n",
        "1제곱미터 = 0.3025평"
      ]
    },
    {
      "cell_type": "code",
      "metadata": {
        "id": "R8G1FfQw1fb6",
        "colab_type": "code",
        "colab": {
          "base_uri": "https://localhost:8080/",
          "height": 35
        },
        "outputId": "90efa715-e8f3-4283-af8f-abfcbde37d39"
      },
      "source": [
        "import numpy as np\n",
        "\n",
        "def my_house(v):\n",
        "    return v * 0.3025\n",
        "\n",
        "\n",
        "my_house(np.random.randint(1, 300))"
      ],
      "execution_count": 14,
      "outputs": [
        {
          "output_type": "execute_result",
          "data": {
            "text/plain": [
              "53.845"
            ]
          },
          "metadata": {
            "tags": []
          },
          "execution_count": 14
        }
      ]
    },
    {
      "cell_type": "markdown",
      "metadata": {
        "id": "h8cpnZ5t1fb8",
        "colab_type": "text"
      },
      "source": [
        "**문항13]** 두 리스트에서 같은 순번에 있는 값을 더하는 my_add 함수를 작성하여 다음의 코드가 작동되도록 하세요. "
      ]
    },
    {
      "cell_type": "code",
      "metadata": {
        "id": "XocDIcoX1fb8",
        "colab_type": "code",
        "colab": {
          "base_uri": "https://localhost:8080/",
          "height": 35
        },
        "outputId": "9ec7485d-2e24-4348-810a-da827b1e8fb2"
      },
      "source": [
        "import numpy as np\n",
        "\n",
        "def my_add(x, y):\n",
        "    t = zip(x, y)\n",
        "    s = [x + y for x, y in t]\n",
        "    return s\n",
        "\n",
        "i = list(np.random.randint(1, 100, np.random.randint(1,20)))\n",
        "j = list(np.random.randint(1, 100, np.random.randint(1,20)))\n",
        "my_add(i, j)"
      ],
      "execution_count": 15,
      "outputs": [
        {
          "output_type": "execute_result",
          "data": {
            "text/plain": [
              "[136, 34, 66, 50]"
            ]
          },
          "metadata": {
            "tags": []
          },
          "execution_count": 15
        }
      ]
    },
    {
      "cell_type": "markdown",
      "metadata": {
        "id": "hCFX1tHb1fb-",
        "colab_type": "text"
      },
      "source": [
        "### 다음의 문항을 수행할 수 있는 코드를 작성하세요."
      ]
    },
    {
      "cell_type": "markdown",
      "metadata": {
        "id": "CsG0svbR1fb_",
        "colab_type": "text"
      },
      "source": [
        "**문항14]** 구구단계산기 Ver02\n",
        "\n",
        "- 프로그램이 시작되면 '구구단 몇단을 계산할까?'를 출력\n",
        "- 사용자가 계산하고 싶은 구구단 숫자를 입력\n",
        "- '구구단 n단을 계산합니다.'라는 메시지와 함께 구구단을 출력"
      ]
    },
    {
      "cell_type": "code",
      "metadata": {
        "id": "x77EzEPe1fb_",
        "colab_type": "code",
        "colab": {
          "base_uri": "https://localhost:8080/",
          "height": 215
        },
        "outputId": "d6d6c98f-8fc9-4807-de68-8a3786a63428"
      },
      "source": [
        "d = input(\"구구단 몇단을 계산할까 ?\")\n",
        "if (not d.isdigit() or 1 > int(d) or int(d) > 9):\n",
        "    print(\"1 ~ 9 정수만 입력하세요.\")\n",
        "else:\n",
        "    dv = int(d)\n",
        "    print(\"구구단 {}단을 계산합니다.\".format(dv))\n",
        "    [print(\"{} * {} = {}\".format(dv, x, dv * x)) for x in range(1,10)]"
      ],
      "execution_count": 16,
      "outputs": [
        {
          "output_type": "stream",
          "text": [
            "구구단 몇단을 계산할까 ?7\n",
            "구구단 7단을 계산합니다.\n",
            "7 * 1 = 7\n",
            "7 * 2 = 14\n",
            "7 * 3 = 21\n",
            "7 * 4 = 28\n",
            "7 * 5 = 35\n",
            "7 * 6 = 42\n",
            "7 * 7 = 49\n",
            "7 * 8 = 56\n",
            "7 * 9 = 63\n"
          ],
          "name": "stdout"
        }
      ]
    },
    {
      "cell_type": "markdown",
      "metadata": {
        "id": "4_yA7jto1fcC",
        "colab_type": "text"
      },
      "source": [
        "**문항15]** 숫자맞추기 야구게임"
      ]
    },
    {
      "cell_type": "markdown",
      "metadata": {
        "id": "zidUO3Uw1fcC",
        "colab_type": "text"
      },
      "source": [
        "- 프로그램이 시작되면 '숫자 맞추기 야구게임을 시작합니다.\"를 출력\n",
        "- 사용자는 4자리 숫자를 입력\n",
        "- 숫자가 전부 틀리면 '아웃'\n",
        "- 위치와 숫자가 모두 맞으면 S\n",
        "- 숫자는 맞지만 위치가 틀리면 B\n",
        "- 예시) 정답이 1234\n",
        "    - 사용자가 7892 입력 -> 1B\n",
        "    - 사용자가 1582 입력 -> 1S1B\n",
        "- 정답은 아래 코드를 사용하여 생성"
      ]
    },
    {
      "cell_type": "code",
      "metadata": {
        "id": "dv9nFavs1fcC",
        "colab_type": "code",
        "colab": {
          "base_uri": "https://localhost:8080/",
          "height": 431
        },
        "outputId": "b43c2944-b972-465a-a641-88124badc91a"
      },
      "source": [
        "import numpy as np\n",
        "\n",
        "######################################################################\n",
        "# 일단 정답을 하나 구하고.......\n",
        "######################################################################\n",
        "answer = np.random.randint(1000, 9999)\n",
        "\n",
        "######################################################################\n",
        "# 정답을 구하는 함수.......\n",
        "######################################################################\n",
        "def get_answer():\n",
        "    x = np.random.randint(1000, 9999)\n",
        "    return x \n",
        "\n",
        "######################################################################\n",
        "# 스트라이크, 볼을 판정하는 함수.......\n",
        "######################################################################\n",
        "def get_strike_ball(x):\n",
        "    b = 0\n",
        "    s = 0\n",
        "    for i in range(0, 4):\n",
        "        for j in range(0, 4):\n",
        "            if(x[i] == str(answer)[j] and i == j):  # 숫자도 맞고, 위치도 맞으면 스트라이크\n",
        "                s += 1\n",
        "                break\n",
        "            elif(x[i] == str(answer)[j] and i != j):  # 숫자만 맞으면 볼\n",
        "                b += 1\n",
        "                break\n",
        "    return b, s\n",
        "\n",
        "\n",
        "\n",
        "######################################################################\n",
        "# 1. 일단 구해진 정답의 4자리 숫자 중에 동일한 숫자 2개 이상이 구성된 경우 정답을 다시 구한다.\n",
        "######################################################################\n",
        "exists_same_digit = True\n",
        "while (exists_same_digit):\n",
        "    exists_same_digit = False\n",
        "    for i in range(0, 4):\n",
        "        for j in range(0, 4):\n",
        "            if (str(answer)[i] == str(answer)[j] and i != j):\n",
        "                exists_same_digit = True\n",
        "                break\n",
        "    if (exists_same_digit):\n",
        "        answer = get_answer()\n",
        "#print(answer)\n",
        "        \n",
        "        \n",
        "######################################################################\n",
        "# 2. 전역변수 초기화\n",
        "######################################################################\n",
        "c_strike = 0 # 스트라이크 횟수\n",
        "c_ball = 0 # 볼 횟수\n",
        " \n",
        "######################################################################\n",
        "# 3. 메세지 출력\n",
        "######################################################################\n",
        "print(\"숫자 맞추기 야구게임을 시작합니다.\")\n",
        "\n",
        "######################################################################\n",
        "# 4. 정답을 맞출때까지 무한반복 (일단 요건에 exit 조건이 없으니 무조건 맞출때까지)\n",
        "######################################################################\n",
        "while(c_strike < 4):\n",
        "    # 4-1. 숫자 입력\n",
        "    v = input(\"4자리 숫자를 입력하세요.\")\n",
        "    # 4-2. 4자리 숫자 입력이 아닌 경우 경고 메세지 (메세지 출력 후 다시 숫자 입력)\n",
        "    if (not v.isdigit() or int(v) < 1000 or int(v) > 9999):\n",
        "        print(\"0 ~ 9999 정수만 입력하세요.\")\n",
        "    else:\n",
        "        # 4-3. 4자리 숫자 입력된 경우 스크라이크, 볼 판정\n",
        "        (c_ball, c_strike) = get_strike_ball(v)\n",
        "        # 4-4. 스트라이크 ,볼 판정 결과 메세지 출력\n",
        "        if (c_strike > 0) and (c_ball > 0):\n",
        "            print(\"{}S{}B\".format(c_strike, c_ball))\n",
        "        elif (c_strike > 0):\n",
        "            print(\"{}S\".format(c_strike))\n",
        "        elif (c_ball > 0):\n",
        "            print(\"{}B\".format(c_ball))\n",
        "        else:\n",
        "            print(\"아웃\")"
      ],
      "execution_count": 17,
      "outputs": [
        {
          "output_type": "stream",
          "text": [
            "숫자 맞추기 야구게임을 시작합니다.\n",
            "4자리 숫자를 입력하세요.1234\n",
            "1B\n",
            "4자리 숫자를 입력하세요.5678\n",
            "1S1B\n",
            "4자리 숫자를 입력하세요.9012\n",
            "1B\n",
            "4자리 숫자를 입력하세요.3412\n",
            "1S\n",
            "4자리 숫자를 입력하세요.5410\n",
            "2S\n",
            "4자리 숫자를 입력하세요.5710\n",
            "1S\n",
            "4자리 숫자를 입력하세요.5420\n",
            "2S\n",
            "4자리 숫자를 입력하세요.5430\n",
            "2S\n",
            "4자리 숫자를 입력하세요.5431\n",
            "2S\n",
            "4자리 숫자를 입력하세요.5467\n",
            "2S\n",
            "4자리 숫자를 입력하세요.5489\n",
            "4S\n"
          ],
          "name": "stdout"
        }
      ]
    },
    {
      "cell_type": "code",
      "metadata": {
        "id": "3ExAn3eN1fcE",
        "colab_type": "code",
        "colab": {}
      },
      "source": [
        ""
      ],
      "execution_count": 0,
      "outputs": []
    }
  ]
}